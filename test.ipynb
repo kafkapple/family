{
 "cells": [
  {
   "cell_type": "code",
   "execution_count": null,
   "metadata": {},
   "outputs": [],
   "source": []
  },
  {
   "cell_type": "code",
   "execution_count": null,
   "metadata": {
    "vscode": {
     "languageId": "ini"
    }
   },
   "outputs": [],
   "source": [
    "def concatenate_unique_descriptions(df, dict_category):\n",
    "    \"\"\"\n",
    "    Concatenates unique course descriptions for each level-2 category.\n",
    "\n",
    "    Args:\n",
    "        df (pd.DataFrame): The input DataFrame.\n",
    "        dict_category (dict): A dictionary mapping level-2 keys to category names.\n",
    "\n",
    "    Returns:\n",
    "        dict: A dictionary where keys are level-2 categories and values are concatenated strings of unique course descriptions.\n",
    "    \"\"\"\n",
    "    concatenated_descriptions = {}\n",
    "    for i_key, i_val in dict_category.items():\n",
    "        i_df = df[df['level-2'] == i_key]\n",
    "        unique_descriptions = i_df['Course_description'].unique()\n",
    "        concatenated_descriptions[i_key] = ' '.join(unique_descriptions)\n",
    "    return concatenated_descriptions\n",
    "\n",
    "# Example usage:\n",
    "concatenated_descriptions = concatenate_unique_descriptions(df, dict_category)\n",
    "\n",
    "# Print the concatenated descriptions for each category\n",
    "for i_key, description in concatenated_descriptions.items():\n",
    "    print(f\"Category {i_key}: {description}\\n\")"
   ]
  },
  {
   "cell_type": "code",
   "execution_count": 27,
   "metadata": {},
   "outputs": [
    {
     "name": "stdout",
     "output_type": "stream",
     "text": [
      "('pairs', {'level-1_ClassName_English': OrderedDict([(1, 'Development'), (2, 'Empathy'), (3, 'Life')]), 'level-2_CategoryName_English': OrderedDict([(1, 'developmental_age_focused'), (2, 'parent_communication_selfcare'), (3, 'emotion_needs_understanding'), (4, 'discipline_norm_setting'), (5, 'self_help_independence'), (6, 'play_interaction'), (9, 'relationship_communication'), (10, 'life_event_focused')]), 'level-3_PlanName_English': OrderedDict([(4, 'EarlyLifeIntro'), (5, 'TwoYearsOld'), (6, 'ThreeYearsOld'), (7, 'FourYearsOldOutro'), (8, 'Adaptation1Y'), (9, 'Adaptation2Y'), (10, 'Adaptation3Y'), (11, 'PlaygroundInfant'), (12, 'PlaygroundToddler'), (13, 'ParentSelfConnection'), (14, 'CoupleTalkInfant'), (15, 'CoupleTalkToddler'), (16, 'ParentBurnout'), (17, 'CommunicationWithPeers'), (18, 'EmotionNeedsPrenatal'), (19, 'EmotionNeedsPreSpeech'), (20, 'EmotionNeedsPostSpeech'), (21, 'LifeGuidancePreTwo'), (22, 'LifeGuidanceTwoToThree'), (23, 'LifeGuidancePostThree'), (24, 'SiblingMediation'), (25, 'SelfHelpWeaning'), (26, 'SelfHelpToilet'), (27, 'SelfHelpHabits'), (28, 'PlayInteractionPreSpeech'), (29, 'PlayInteractionPostSpeech'), (30, 'MediaIntro'), (31, 'MediaConflict'), (32, 'RejectionSkills'), (33, 'GivingPraise')])})\n",
      "('counts', {'level-1_ClassName_English': 3, 'level-2_CategoryName_English': 8, 'level-3_PlanName_English': 30})\n",
      "('total_count', 41)\n",
      "('sorted_keys', {'level-1_ClassName_English': [1, 2, 3], 'level-2_CategoryName_English': [1, 2, 3, 4, 5, 6, 9, 10], 'level-3_PlanName_English': [4, 5, 6, 7, 8, 9, 10, 11, 12, 13, 14, 15, 16, 17, 18, 19, 20, 21, 22, 23, 24, 25, 26, 27, 28, 29, 30, 31, 32, 33]})\n",
      "('unique_values', {'level-1_ClassName_English': ['Development', 'Empathy', 'Life'], 'level-2_CategoryName_English': ['developmental_age_focused', 'discipline_norm_setting', 'emotion_needs_understanding', 'life_event_focused', 'parent_communication_selfcare', 'play_interaction', 'relationship_communication', 'self_help_independence'], 'level-3_PlanName_English': ['Adaptation1Y', 'Adaptation2Y', 'Adaptation3Y', 'CommunicationWithPeers', 'CoupleTalkInfant', 'CoupleTalkToddler', 'EarlyLifeIntro', 'EmotionNeedsPostSpeech', 'EmotionNeedsPreSpeech', 'EmotionNeedsPrenatal', 'FourYearsOldOutro', 'GivingPraise', 'LifeGuidancePostThree', 'LifeGuidancePreTwo', 'LifeGuidanceTwoToThree', 'MediaConflict', 'MediaIntro', 'ParentBurnout', 'ParentSelfConnection', 'PlayInteractionPostSpeech', 'PlayInteractionPreSpeech', 'PlaygroundInfant', 'PlaygroundToddler', 'RejectionSkills', 'SelfHelpHabits', 'SelfHelpToilet', 'SelfHelpWeaning', 'SiblingMediation', 'ThreeYearsOld', 'TwoYearsOld']})\n"
     ]
    }
   ],
   "source": [
    "for i in result.items():\n",
    "    print(i)\n"
   ]
  },
  {
   "cell_type": "code",
   "execution_count": null,
   "metadata": {},
   "outputs": [
    {
     "name": "stdout",
     "output_type": "stream",
     "text": [
      "\n",
      "    # Instruction\n",
      "    다음의 Category list 중 가장 관련이 높은 category 를 선택하세요.\n",
      "    각 category 에 대한 정보도 함께 제공됩니다.\n",
      "\n",
      "    # Context\n",
      "    ## Category list    \n",
      "    ['발달_단계_연령_중심' '부모_양육자_대화_및_자기관리' '감정_욕구_이해' '훈육_규범_설정_관련' '자조능력_독립성_관련'\n",
      " '놀이_상호작용' '관계_소통_전반' '시기_생활_이벤트_중심']\n",
      "\n",
      "    ## Category Information\n",
      "    Category Name: 발달_단계_연령_중심\n",
      "        Related Keywords: 18개월발달, 30개월발달, NVC, TV, 감정표현, 게임, 공감능력, 관계, 규칙, 남매, 네돌, 네살, 네살발달, 놀이, 누나, 다섯살, 돌, 두돌, 두살, 두살발달, 미운네살, 발달, 발달사항, 상호작용, 세돌, 세살, 세살발달, 싫어, 안해, 약속, 양육자역할, 언니, 오빠, 옹알이, 왜요, 유튜브, 육아관, 육아대화, 육아방법, 태블릿, 형님, 형제, 훈육, 휴대전화\n",
      "        Description: 아이가 태어나서 돌이 되기까지 어떻게 발달하고, 무엇을 신경써서 상호작용해야 하는지 알려드려요. (신체, 정서, 인지, 언어, 놀이, 책 등) 아이가 두 돌 즈음엔 어떻게 발달하고, 무엇을 신경써서 상호작용해야 하는지 알려드려요. (신체, 정서, 인지, 언어, 놀이, 책 등) 아이가 세 돌 즈음엔 어떻게 발달하고, 무엇을 신경써서 상호작용해야 하는지 알려드려요. (신체, 정서, 인지, 언어, 놀이, 책 등) 아이가 네 돌 즈음엔 어떻게 발달하고, 무엇을 신경써서 상호작용해야 하는지 알려드려요. (신체, 정서, 인지, 언어, 놀이, 책 등)Category Name: 부모_양육자_대화_및_자기관리\n",
      "        Related Keywords: 18개월발달, 30개월발달, NVC, TV, 감정표현, 게임, 공감능력, 관계, 규칙, 남매, 네돌, 네살, 네살발달, 놀이, 누나, 다섯살, 돌, 두돌, 두살, 두살발달, 미운네살, 발달, 발달사항, 상호작용, 세돌, 세살, 세살발달, 싫어, 안해, 약속, 양육자역할, 언니, 오빠, 옹알이, 왜요, 유튜브, 육아관, 육아대화, 육아방법, 태블릿, 형님, 형제, 훈육, 휴대전화\n",
      "        Description: 아이와의 연결은 양육자가 스스로 조절할 수 있을때만 가능하다는 것, 알고 계신가요? 양육자가 내면의 힘을 기를 수 있게 돕습니다. 아이가 생긴 후로 부쩍 많이 싸운다고요? 육아 갈등을 다루는 대화법을 함께 연습해요. 우울하고 무기력한 나날을 보내고 계신가요? 양육자의 상당수가 경험한다는 육아우울증과 번아웃, 함께 정성스레 다뤄봐요. 조양육자님과 시터, 기관 선생님들까지 주변 어른들의 도움이 절실하지만 묘하게 스트레스 받는다구요? 부 양육자들과의 의사소통법을 함께 다뤄요.Category Name: 감정_욕구_이해\n",
      "        Related Keywords: 18개월발달, 30개월발달, NVC, TV, 감정표현, 게임, 공감능력, 관계, 규칙, 남매, 네돌, 네살, 네살발달, 놀이, 누나, 다섯살, 돌, 두돌, 두살, 두살발달, 미운네살, 발달, 발달사항, 상호작용, 세돌, 세살, 세살발달, 싫어, 안해, 약속, 양육자역할, 언니, 오빠, 옹알이, 왜요, 유튜브, 육아관, 육아대화, 육아방법, 태블릿, 형님, 형제, 훈육, 휴대전화\n",
      "        Description: 아직 태어나진 않았지만 이미 연결되어 있지요. 뱃속에 있는 아이와의 대화, 함께 해봐요. 양육자가 적절히 감정을 표현해줄 때, 아이도 자기 자신과 세상과 더 잘 연결된답니다. 아직 말문이 트이지 않은 아이와의 감정소통, 그 아래 욕구표현까지 함께 연습해보세요. 양육자가 적절히 감정을 표현해줄 때, 아이도 자기 자신과 세상과 더 잘 연결된답니다. 아이와의 감정소통, 그 아래 욕구표현까지 함께 연습해보세요.Category Name: 훈육_규범_설정_관련\n",
      "        Related Keywords: 18개월발달, 30개월발달, NVC, TV, 감정표현, 게임, 공감능력, 관계, 규칙, 남매, 네돌, 네살, 네살발달, 놀이, 누나, 다섯살, 돌, 두돌, 두살, 두살발달, 미운네살, 발달, 발달사항, 상호작용, 세돌, 세살, 세살발달, 싫어, 안해, 약속, 양육자역할, 언니, 오빠, 옹알이, 왜요, 유튜브, 육아관, 육아대화, 육아방법, 태블릿, 형님, 형제, 훈육, 휴대전화\n",
      "        Description: 이제 슬슬 떼도 부리고, 자신의 주장을 내세우기 시작한다고요? 아이가 잘 크고 있는 거라지만 육아의 어려움도 커지죠. 관계는 돌보면서 가르쳐야 할 것은 가르치는 생활지도(흔히 말하는 훈육) 대화법을 알려드려요. 관계는 돌보면서 가르쳐야 할 것은 가르치는 생활지도(흔히 말하는 훈육) 대화법을 알려드려요. 하나도 아니고 둘 셋의 아이들이 서로 다툴때면 정말 어디서부터 시작해야 할지 막막하죠? 누군가의 희생이나 양보가 아니라 서로 배우고 성장할 수 있는 갈등중재방법을 함께 연습해요.Category Name: 자조능력_독립성_관련\n",
      "        Related Keywords: 18개월발달, 30개월발달, NVC, TV, 감정표현, 게임, 공감능력, 관계, 규칙, 남매, 네돌, 네살, 네살발달, 놀이, 누나, 다섯살, 돌, 두돌, 두살, 두살발달, 미운네살, 발달, 발달사항, 상호작용, 세돌, 세살, 세살발달, 싫어, 안해, 약속, 양육자역할, 언니, 오빠, 옹알이, 왜요, 유튜브, 육아관, 육아대화, 육아방법, 태블릿, 형님, 형제, 훈육, 휴대전화\n",
      "        Description: 식사시간에 유독 스트레스를 받는다고요? 식습관을 가르치면서 양육자도 편안해질 수 있는 방법을 함께 찾아요. 또 하나의 넘어야 할 산, 배변습관. 잘못하면 아이에게 큰 스트레스라던데. 양육자도 편안해 지는 배변교육 대화법을 알려드릴게요. 양치, 외출준비... 한두번 하는 것도 아닌데 매번 울음과 짜증으로 마무리 되나요? 일상의 여러 루틴을 만들어가는 경계설정과 대화법을 함께 연습해요.Category Name: 놀이_상호작용\n",
      "        Related Keywords: 18개월발달, 30개월발달, NVC, TV, 감정표현, 게임, 공감능력, 관계, 규칙, 남매, 네돌, 네살, 네살발달, 놀이, 누나, 다섯살, 돌, 두돌, 두살, 두살발달, 미운네살, 발달, 발달사항, 상호작용, 세돌, 세살, 세살발달, 싫어, 안해, 약속, 양육자역할, 언니, 오빠, 옹알이, 왜요, 유튜브, 육아관, 육아대화, 육아방법, 태블릿, 형님, 형제, 훈육, 휴대전화\n",
      "        Description: 아직 말을 잘 못하는 아이와 어떻게 놀아야할지 모르시겠다고요? 아이도 만족스러우면서 양육자도 즐거워지는 놀이대화법을 함께 연습해요. 아이와 어떻게 놀아야할지 모르시겠다고요? 아이도 만족스러우면서 양육자도 즐거워지는 놀이대화법을 함께 연습해요. 휴대전화, 유튜브, 태블릿... 언제 어떻게 노출시켜줘야 할까요? 육아 중의 미디어 사용법과 환경설정, 대화법을 함께 고민해요. 휴대전화, 유튜브, 태블릿을 둘러싼 대화, 싸움과 비난으로 마무리되시나요? 미디어를 둘러싼 갈등을 함께 다뤄봐요.Category Name: 관계_소통_전반\n",
      "        Related Keywords: 18개월발달, 30개월발달, NVC, TV, 감정표현, 게임, 공감능력, 관계, 규칙, 남매, 네돌, 네살, 네살발달, 놀이, 누나, 다섯살, 돌, 두돌, 두살, 두살발달, 미운네살, 발달, 발달사항, 상호작용, 세돌, 세살, 세살발달, 싫어, 안해, 약속, 양육자역할, 언니, 오빠, 옹알이, 왜요, 유튜브, 육아관, 육아대화, 육아방법, 태블릿, 형님, 형제, 훈육, 휴대전화\n",
      "        Description: 아이의 '싫어!'에 너무 상처받으신다고요? 아이가 다른 사람에게 거절을 못해서 고민이시라고요? 육아는 물론이고 우리 삶에서 중요한 '거절'을 둘러싼 대화법, 집중적으로 연습해볼게요. 육아 중에 빠질 수 없는 칭찬하기, 어떻게 해야 할까요?Category Name: 시기_생활_이벤트_중심\n",
      "        Related Keywords: 18개월발달, 30개월발달, NVC, TV, 감정표현, 게임, 공감능력, 관계, 규칙, 남매, 네돌, 네살, 네살발달, 놀이, 누나, 다섯살, 돌, 두돌, 두살, 두살발달, 미운네살, 발달, 발달사항, 상호작용, 세돌, 세살, 세살발달, 싫어, 안해, 약속, 양육자역할, 언니, 오빠, 옹알이, 왜요, 유튜브, 육아관, 육아대화, 육아방법, 태블릿, 형님, 형제, 훈육, 휴대전화\n",
      "        Description: 기관에 가게 되었나요? 양육자도 아이도 새로운 환경과 일상에 잘 적응할 수 있게 대화법 알려드려요. 양육자도 아이도 새로운 환경과 일상에 잘 적응할 수 있게 대화법 알려드려요. 날도 적당하고, 놀이터에 자주 가신다고요? 경계설정과 약속지키기를 경험할 최고의 기회랍니다.\n",
      "    # Output format\n",
      "    Json format 으로 출력하세요.\n",
      "    {\n",
      "        \"category\": \"Category Name\",\n",
      "        \"explanation\": \"explanation\",\n",
      "    }\n",
      "    \n"
     ]
    }
   ],
   "source": []
  },
  {
   "cell_type": "code",
   "execution_count": null,
   "metadata": {},
   "outputs": [
    {
     "name": "stdout",
     "output_type": "stream",
     "text": [
      "LLM prompts saved to llm_prompts.txt\n",
      "JSON results parsed and saved to json_results.json\n"
     ]
    }
   ],
   "source": [
    "import json\n",
    "\n",
    "def save_llm_prompts_to_txt(llm_prompts, filename=\"llm_prompts.txt\"):\n",
    "    \"\"\"\n",
    "    Saves the generated LLM prompts to a text file.\n",
    "\n",
    "    Args:\n",
    "        llm_prompts (str): The LLM prompts string.\n",
    "        filename (str, optional): The name of the file to save the prompts to.\n",
    "            Defaults to \"llm_prompts.txt\".\n",
    "    \"\"\"\n",
    "    try:\n",
    "        with open(filename, \"w\", encoding=\"utf-8\") as f:\n",
    "            f.write(llm_prompts)\n",
    "        print(f\"LLM prompts saved to {filename}\")\n",
    "    except Exception as e:\n",
    "        print(f\"Error saving LLM prompts to file: {e}\")\n",
    "\n",
    "def parse_and_save_json_results(json_string, filename=\"json_results.txt\"):\n",
    "    \"\"\"\n",
    "    Parses a JSON string and saves the results to a text file.\n",
    "\n",
    "    Args:\n",
    "        json_string (str): The JSON string to parse.\n",
    "        filename (str, optional): The name of the file to save the parsed results to.\n",
    "            Defaults to \"json_results.txt\".\n",
    "    \"\"\"\n",
    "    try:\n",
    "        data = json.loads(json_string)\n",
    "        with open(filename, \"w\", encoding=\"utf-8\") as f:\n",
    "            json.dump(data, f, ensure_ascii=False, indent=4)  # Save with indentation for readability\n",
    "        print(f\"JSON results parsed and saved to {filename}\")\n",
    "    except json.JSONDecodeError as e:\n",
    "        print(f\"Error decoding JSON: {e}\")\n",
    "    except Exception as e:\n",
    "        print(f\"Error saving JSON results to file: {e}\")\n",
    "\n",
    "# Example Usage (assuming llm_prompts is already generated):\n",
    "save_llm_prompts_to_txt(llm_prompts, \"llm_prompts.txt\")\n",
    "\n",
    "# Example JSON string (replace with your actual JSON string):\n",
    "example_json = \"\"\"\n",
    "{\n",
    "    \"category\": \"발달_단계_연령_중심\",\n",
    "    \"explanation\": \"아이가 보이는 행동은 자연스러운 발달 과정입니다.\"\n",
    "}\n",
    "\"\"\"\n",
    "parse_and_save_json_results(example_json, \"json_results.json\")"
   ]
  },
  {
   "cell_type": "code",
   "execution_count": 85,
   "metadata": {},
   "outputs": [
    {
     "data": {
      "text/plain": [
       "0         발달_단계_연령_중심\n",
       "1    부모_양육자_대화_및_자기관리\n",
       "2            감정_욕구_이해\n",
       "3         훈육_규범_설정_관련\n",
       "4         자조능력_독립성_관련\n",
       "5             놀이_상호작용\n",
       "6            관계_소통_전반\n",
       "7        시기_생활_이벤트_중심\n",
       "Name: CategoryName, dtype: object"
      ]
     },
     "execution_count": 85,
     "metadata": {},
     "output_type": "execute_result"
    }
   ],
   "source": [
    "df_category['CategoryName']"
   ]
  },
  {
   "cell_type": "code",
   "execution_count": 86,
   "metadata": {},
   "outputs": [
    {
     "ename": "SyntaxError",
     "evalue": "incomplete input (903024394.py, line 7)",
     "output_type": "error",
     "traceback": [
      "  \u001b[36mCell\u001b[39m\u001b[36m \u001b[39m\u001b[32mIn[86]\u001b[39m\u001b[32m, line 7\u001b[39m\n\u001b[31m    \u001b[39m\n    ^\n\u001b[31mSyntaxError\u001b[39m\u001b[31m:\u001b[39m incomplete input\n"
     ]
    }
   ],
   "source": [
    "from collections import OrderedDict\n",
    "for i in result:\n",
    "    i_dict = result[i]\n",
    "    i_sorted = OrderedDict(sorted(i_dict.items()))\n",
    "    print(f\"\\n==={i}===\\n {i_sorted}\")\n",
    "    for j in i_sorted.keys():\n",
    "        \n"
   ]
  },
  {
   "cell_type": "code",
   "execution_count": null,
   "metadata": {},
   "outputs": [],
   "source": []
  },
  {
   "cell_type": "code",
   "execution_count": null,
   "metadata": {},
   "outputs": [],
   "source": []
  },
  {
   "cell_type": "code",
   "execution_count": null,
   "metadata": {},
   "outputs": [
    {
     "name": "stdout",
     "output_type": "stream",
     "text": [
      "\n",
      "정렬된 키와 고유 값:\n",
      "\n",
      "level-1_ClassName_English 쌍:\n",
      "  정렬된 키: [1, 2, 3]\n",
      "  고유 값: ['Development', 'Empathy', 'Life']\n",
      "  키별 매핑:\n",
      "    1 → Development\n",
      "    2 → Empathy\n",
      "    3 → Life\n",
      "\n",
      "level-2_CategoryName_English 쌍:\n",
      "  정렬된 키: [1, 2, 3, 4, 5, 6, 9, 10]\n",
      "  고유 값: ['developmental_age_focused', 'discipline_norm_setting', 'emotion_needs_understanding', 'life_event_focused', 'parent_communication_selfcare', 'play_interaction', 'relationship_communication', 'self_help_independence']\n",
      "  키별 매핑:\n",
      "    1 → developmental_age_focused\n",
      "    2 → parent_communication_selfcare\n",
      "    3 → emotion_needs_understanding\n",
      "    4 → discipline_norm_setting\n",
      "    5 → self_help_independence\n",
      "    6 → play_interaction\n",
      "    9 → relationship_communication\n",
      "    10 → life_event_focused\n",
      "\n",
      "level-3_PlanName_English 쌍:\n",
      "  정렬된 키: [4, 5, 6, 7, 8, 9, 10, 11, 12, 13, 14, 15, 16, 17, 18, 19, 20, 21, 22, 23, 24, 25, 26, 27, 28, 29, 30, 31, 32, 33]\n",
      "  고유 값: ['Adaptation1Y', 'Adaptation2Y', 'Adaptation3Y', 'CommunicationWithPeers', 'CoupleTalkInfant', 'CoupleTalkToddler', 'EarlyLifeIntro', 'EmotionNeedsPostSpeech', 'EmotionNeedsPreSpeech', 'EmotionNeedsPrenatal', 'FourYearsOldOutro', 'GivingPraise', 'LifeGuidancePostThree', 'LifeGuidancePreTwo', 'LifeGuidanceTwoToThree', 'MediaConflict', 'MediaIntro', 'ParentBurnout', 'ParentSelfConnection', 'PlayInteractionPostSpeech', 'PlayInteractionPreSpeech', 'PlaygroundInfant', 'PlaygroundToddler', 'RejectionSkills', 'SelfHelpHabits', 'SelfHelpToilet', 'SelfHelpWeaning', 'SiblingMediation', 'ThreeYearsOld', 'TwoYearsOld']\n",
      "  키별 매핑:\n",
      "    4 → EarlyLifeIntro\n",
      "    5 → TwoYearsOld\n",
      "    6 → ThreeYearsOld\n",
      "    7 → FourYearsOldOutro\n",
      "    8 → Adaptation1Y\n",
      "    9 → Adaptation2Y\n",
      "    10 → Adaptation3Y\n",
      "    11 → PlaygroundInfant\n",
      "    12 → PlaygroundToddler\n",
      "    13 → ParentSelfConnection\n",
      "    14 → CoupleTalkInfant\n",
      "    15 → CoupleTalkToddler\n",
      "    16 → ParentBurnout\n",
      "    17 → CommunicationWithPeers\n",
      "    18 → EmotionNeedsPrenatal\n",
      "    19 → EmotionNeedsPreSpeech\n",
      "    20 → EmotionNeedsPostSpeech\n",
      "    21 → LifeGuidancePreTwo\n",
      "    22 → LifeGuidanceTwoToThree\n",
      "    23 → LifeGuidancePostThree\n",
      "    24 → SiblingMediation\n",
      "    25 → SelfHelpWeaning\n",
      "    26 → SelfHelpToilet\n",
      "    27 → SelfHelpHabits\n",
      "    28 → PlayInteractionPreSpeech\n",
      "    29 → PlayInteractionPostSpeech\n",
      "    30 → MediaIntro\n",
      "    31 → MediaConflict\n",
      "    32 → RejectionSkills\n",
      "    33 → GivingPraise\n"
     ]
    }
   ],
   "source": []
  },
  {
   "cell_type": "code",
   "execution_count": null,
   "metadata": {},
   "outputs": [],
   "source": []
  }
 ],
 "metadata": {
  "kernelspec": {
   "display_name": "sum",
   "language": "python",
   "name": "python3"
  },
  "language_info": {
   "codemirror_mode": {
    "name": "ipython",
    "version": 3
   },
   "file_extension": ".py",
   "mimetype": "text/x-python",
   "name": "python",
   "nbconvert_exporter": "python",
   "pygments_lexer": "ipython3",
   "version": "3.11.11"
  }
 },
 "nbformat": 4,
 "nbformat_minor": 2
}
